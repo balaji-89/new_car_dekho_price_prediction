{
 "cells": [
  {
   "cell_type": "code",
   "execution_count": 1,
   "metadata": {},
   "outputs": [],
   "source": [
    "import matplotlib.pyplot as plt\n",
    "import pandas as pd\n",
    "import numpy as np\n",
    "import seaborn as sns\n",
    "import joblib\n",
    "import warnings\n",
    "\n",
    "\n",
    "from sklearn.model_selection import StratifiedShuffleSplit\n",
    "from sklearn.pipeline import Pipeline\n",
    "from sklearn.preprocessing import StandardScaler\n",
    "from sklearn.linear_model import LinearRegression\n",
    "from sklearn.ensemble import RandomForestRegressor\n",
    "from sklearn.metrics import mean_squared_error\n",
    "from sklearn.model_selection import cross_val_score\n",
    "from sklearn.decomposition import PCA\n",
    "from sklearn.model_selection import GridSearchCV\n",
    "from sklearn.model_selection import RandomizedSearchCV\n",
    "from xgboost import XGBRegressor\n",
    "from scipy.stats import pearsonr\n",
    "from sklearn.base import BaseEstimator,TransformerMixin\n",
    "from sklearn.svm import SVR\n",
    "from sklearn.model_selection import train_test_split\n",
    "\n",
    "#avoid warnings\n",
    "warnings.filterwarnings(\"ignore\")"
   ]
  },
  {
   "cell_type": "code",
   "execution_count": 2,
   "metadata": {},
   "outputs": [],
   "source": [
    "df = pd.read_csv('../dataset/preprocessed_data/preprocessed_df.csv')"
   ]
  },
  {
   "cell_type": "code",
   "execution_count": 3,
   "metadata": {},
   "outputs": [
    {
     "data": {
      "text/html": [
       "<div>\n",
       "<style scoped>\n",
       "    .dataframe tbody tr th:only-of-type {\n",
       "        vertical-align: middle;\n",
       "    }\n",
       "\n",
       "    .dataframe tbody tr th {\n",
       "        vertical-align: top;\n",
       "    }\n",
       "\n",
       "    .dataframe thead th {\n",
       "        text-align: right;\n",
       "    }\n",
       "</style>\n",
       "<table border=\"1\" class=\"dataframe\">\n",
       "  <thead>\n",
       "    <tr style=\"text-align: right;\">\n",
       "      <th></th>\n",
       "      <th>Unnamed: 0</th>\n",
       "      <th>transmission</th>\n",
       "      <th>ownerno</th>\n",
       "      <th>original_equipment_manufacturer</th>\n",
       "      <th>model</th>\n",
       "      <th>drive_modes</th>\n",
       "      <th>voice_control</th>\n",
       "      <th>smart_key_band</th>\n",
       "      <th>battery_saver</th>\n",
       "      <th>rear_reading_lamp</th>\n",
       "      <th>...</th>\n",
       "      <th>no_of_cylinder_6.0</th>\n",
       "      <th>no_of_cylinder_7.0</th>\n",
       "      <th>no_of_cylinder_8.0</th>\n",
       "      <th>tyre_type_None/other</th>\n",
       "      <th>tyre_type_radial</th>\n",
       "      <th>tyre_type_radial_runflat</th>\n",
       "      <th>tyre_type_runflat</th>\n",
       "      <th>tyre_type_runflat_tubeless</th>\n",
       "      <th>tyre_type_tubeless</th>\n",
       "      <th>tyre_type_tubeless_radial</th>\n",
       "    </tr>\n",
       "  </thead>\n",
       "  <tbody>\n",
       "    <tr>\n",
       "      <th>0</th>\n",
       "      <td>0</td>\n",
       "      <td>0</td>\n",
       "      <td>1</td>\n",
       "      <td>-0.031819</td>\n",
       "      <td>-0.031912</td>\n",
       "      <td>True</td>\n",
       "      <td>True</td>\n",
       "      <td>False</td>\n",
       "      <td>False</td>\n",
       "      <td>True</td>\n",
       "      <td>...</td>\n",
       "      <td>0</td>\n",
       "      <td>0</td>\n",
       "      <td>0</td>\n",
       "      <td>0</td>\n",
       "      <td>0</td>\n",
       "      <td>0</td>\n",
       "      <td>0</td>\n",
       "      <td>0</td>\n",
       "      <td>0</td>\n",
       "      <td>1</td>\n",
       "    </tr>\n",
       "    <tr>\n",
       "      <th>1</th>\n",
       "      <td>1</td>\n",
       "      <td>1</td>\n",
       "      <td>2</td>\n",
       "      <td>-0.028797</td>\n",
       "      <td>-0.033061</td>\n",
       "      <td>False</td>\n",
       "      <td>False</td>\n",
       "      <td>False</td>\n",
       "      <td>False</td>\n",
       "      <td>False</td>\n",
       "      <td>...</td>\n",
       "      <td>0</td>\n",
       "      <td>0</td>\n",
       "      <td>0</td>\n",
       "      <td>0</td>\n",
       "      <td>0</td>\n",
       "      <td>0</td>\n",
       "      <td>0</td>\n",
       "      <td>0</td>\n",
       "      <td>1</td>\n",
       "      <td>0</td>\n",
       "    </tr>\n",
       "    <tr>\n",
       "      <th>2</th>\n",
       "      <td>2</td>\n",
       "      <td>0</td>\n",
       "      <td>1</td>\n",
       "      <td>-0.024820</td>\n",
       "      <td>-0.019402</td>\n",
       "      <td>True</td>\n",
       "      <td>True</td>\n",
       "      <td>False</td>\n",
       "      <td>False</td>\n",
       "      <td>True</td>\n",
       "      <td>...</td>\n",
       "      <td>0</td>\n",
       "      <td>0</td>\n",
       "      <td>0</td>\n",
       "      <td>0</td>\n",
       "      <td>0</td>\n",
       "      <td>0</td>\n",
       "      <td>0</td>\n",
       "      <td>0</td>\n",
       "      <td>0</td>\n",
       "      <td>1</td>\n",
       "    </tr>\n",
       "    <tr>\n",
       "      <th>3</th>\n",
       "      <td>3</td>\n",
       "      <td>1</td>\n",
       "      <td>2</td>\n",
       "      <td>0.047078</td>\n",
       "      <td>-0.035159</td>\n",
       "      <td>False</td>\n",
       "      <td>False</td>\n",
       "      <td>False</td>\n",
       "      <td>False</td>\n",
       "      <td>False</td>\n",
       "      <td>...</td>\n",
       "      <td>0</td>\n",
       "      <td>0</td>\n",
       "      <td>0</td>\n",
       "      <td>0</td>\n",
       "      <td>0</td>\n",
       "      <td>0</td>\n",
       "      <td>0</td>\n",
       "      <td>0</td>\n",
       "      <td>0</td>\n",
       "      <td>1</td>\n",
       "    </tr>\n",
       "    <tr>\n",
       "      <th>4</th>\n",
       "      <td>4</td>\n",
       "      <td>1</td>\n",
       "      <td>1</td>\n",
       "      <td>-0.028797</td>\n",
       "      <td>-0.033061</td>\n",
       "      <td>False</td>\n",
       "      <td>False</td>\n",
       "      <td>False</td>\n",
       "      <td>True</td>\n",
       "      <td>False</td>\n",
       "      <td>...</td>\n",
       "      <td>0</td>\n",
       "      <td>0</td>\n",
       "      <td>0</td>\n",
       "      <td>0</td>\n",
       "      <td>0</td>\n",
       "      <td>0</td>\n",
       "      <td>0</td>\n",
       "      <td>0</td>\n",
       "      <td>1</td>\n",
       "      <td>0</td>\n",
       "    </tr>\n",
       "    <tr>\n",
       "      <th>...</th>\n",
       "      <td>...</td>\n",
       "      <td>...</td>\n",
       "      <td>...</td>\n",
       "      <td>...</td>\n",
       "      <td>...</td>\n",
       "      <td>...</td>\n",
       "      <td>...</td>\n",
       "      <td>...</td>\n",
       "      <td>...</td>\n",
       "      <td>...</td>\n",
       "      <td>...</td>\n",
       "      <td>...</td>\n",
       "      <td>...</td>\n",
       "      <td>...</td>\n",
       "      <td>...</td>\n",
       "      <td>...</td>\n",
       "      <td>...</td>\n",
       "      <td>...</td>\n",
       "      <td>...</td>\n",
       "      <td>...</td>\n",
       "      <td>...</td>\n",
       "    </tr>\n",
       "    <tr>\n",
       "      <th>8364</th>\n",
       "      <td>8364</td>\n",
       "      <td>1</td>\n",
       "      <td>2</td>\n",
       "      <td>-0.032443</td>\n",
       "      <td>-0.029565</td>\n",
       "      <td>False</td>\n",
       "      <td>True</td>\n",
       "      <td>False</td>\n",
       "      <td>False</td>\n",
       "      <td>False</td>\n",
       "      <td>...</td>\n",
       "      <td>0</td>\n",
       "      <td>0</td>\n",
       "      <td>0</td>\n",
       "      <td>0</td>\n",
       "      <td>0</td>\n",
       "      <td>0</td>\n",
       "      <td>0</td>\n",
       "      <td>0</td>\n",
       "      <td>0</td>\n",
       "      <td>1</td>\n",
       "    </tr>\n",
       "    <tr>\n",
       "      <th>8365</th>\n",
       "      <td>8365</td>\n",
       "      <td>1</td>\n",
       "      <td>2</td>\n",
       "      <td>0.047078</td>\n",
       "      <td>-0.036246</td>\n",
       "      <td>False</td>\n",
       "      <td>False</td>\n",
       "      <td>False</td>\n",
       "      <td>False</td>\n",
       "      <td>True</td>\n",
       "      <td>...</td>\n",
       "      <td>0</td>\n",
       "      <td>0</td>\n",
       "      <td>0</td>\n",
       "      <td>0</td>\n",
       "      <td>0</td>\n",
       "      <td>0</td>\n",
       "      <td>0</td>\n",
       "      <td>0</td>\n",
       "      <td>0</td>\n",
       "      <td>1</td>\n",
       "    </tr>\n",
       "    <tr>\n",
       "      <th>8366</th>\n",
       "      <td>8366</td>\n",
       "      <td>1</td>\n",
       "      <td>2</td>\n",
       "      <td>-0.020066</td>\n",
       "      <td>-0.035747</td>\n",
       "      <td>False</td>\n",
       "      <td>False</td>\n",
       "      <td>False</td>\n",
       "      <td>False</td>\n",
       "      <td>False</td>\n",
       "      <td>...</td>\n",
       "      <td>0</td>\n",
       "      <td>0</td>\n",
       "      <td>0</td>\n",
       "      <td>0</td>\n",
       "      <td>0</td>\n",
       "      <td>0</td>\n",
       "      <td>0</td>\n",
       "      <td>0</td>\n",
       "      <td>0</td>\n",
       "      <td>1</td>\n",
       "    </tr>\n",
       "    <tr>\n",
       "      <th>8367</th>\n",
       "      <td>8367</td>\n",
       "      <td>1</td>\n",
       "      <td>1</td>\n",
       "      <td>-0.028797</td>\n",
       "      <td>-0.034953</td>\n",
       "      <td>False</td>\n",
       "      <td>False</td>\n",
       "      <td>False</td>\n",
       "      <td>True</td>\n",
       "      <td>False</td>\n",
       "      <td>...</td>\n",
       "      <td>0</td>\n",
       "      <td>0</td>\n",
       "      <td>0</td>\n",
       "      <td>0</td>\n",
       "      <td>0</td>\n",
       "      <td>0</td>\n",
       "      <td>0</td>\n",
       "      <td>0</td>\n",
       "      <td>1</td>\n",
       "      <td>0</td>\n",
       "    </tr>\n",
       "    <tr>\n",
       "      <th>8368</th>\n",
       "      <td>8368</td>\n",
       "      <td>0</td>\n",
       "      <td>2</td>\n",
       "      <td>-0.028797</td>\n",
       "      <td>-0.035274</td>\n",
       "      <td>False</td>\n",
       "      <td>False</td>\n",
       "      <td>False</td>\n",
       "      <td>False</td>\n",
       "      <td>False</td>\n",
       "      <td>...</td>\n",
       "      <td>0</td>\n",
       "      <td>0</td>\n",
       "      <td>0</td>\n",
       "      <td>0</td>\n",
       "      <td>0</td>\n",
       "      <td>0</td>\n",
       "      <td>0</td>\n",
       "      <td>0</td>\n",
       "      <td>1</td>\n",
       "      <td>0</td>\n",
       "    </tr>\n",
       "  </tbody>\n",
       "</table>\n",
       "<p>8369 rows × 227 columns</p>\n",
       "</div>"
      ],
      "text/plain": [
       "      Unnamed: 0  transmission  ownerno  original_equipment_manufacturer  \\\n",
       "0              0             0        1                        -0.031819   \n",
       "1              1             1        2                        -0.028797   \n",
       "2              2             0        1                        -0.024820   \n",
       "3              3             1        2                         0.047078   \n",
       "4              4             1        1                        -0.028797   \n",
       "...          ...           ...      ...                              ...   \n",
       "8364        8364             1        2                        -0.032443   \n",
       "8365        8365             1        2                         0.047078   \n",
       "8366        8366             1        2                        -0.020066   \n",
       "8367        8367             1        1                        -0.028797   \n",
       "8368        8368             0        2                        -0.028797   \n",
       "\n",
       "         model  drive_modes  voice_control  smart_key_band  battery_saver  \\\n",
       "0    -0.031912         True           True           False          False   \n",
       "1    -0.033061        False          False           False          False   \n",
       "2    -0.019402         True           True           False          False   \n",
       "3    -0.035159        False          False           False          False   \n",
       "4    -0.033061        False          False           False           True   \n",
       "...        ...          ...            ...             ...            ...   \n",
       "8364 -0.029565        False           True           False          False   \n",
       "8365 -0.036246        False          False           False          False   \n",
       "8366 -0.035747        False          False           False          False   \n",
       "8367 -0.034953        False          False           False           True   \n",
       "8368 -0.035274        False          False           False          False   \n",
       "\n",
       "      rear_reading_lamp  ...  no_of_cylinder_6.0  no_of_cylinder_7.0  \\\n",
       "0                  True  ...                   0                   0   \n",
       "1                 False  ...                   0                   0   \n",
       "2                  True  ...                   0                   0   \n",
       "3                 False  ...                   0                   0   \n",
       "4                 False  ...                   0                   0   \n",
       "...                 ...  ...                 ...                 ...   \n",
       "8364              False  ...                   0                   0   \n",
       "8365               True  ...                   0                   0   \n",
       "8366              False  ...                   0                   0   \n",
       "8367              False  ...                   0                   0   \n",
       "8368              False  ...                   0                   0   \n",
       "\n",
       "      no_of_cylinder_8.0  tyre_type_None/other  tyre_type_radial  \\\n",
       "0                      0                     0                 0   \n",
       "1                      0                     0                 0   \n",
       "2                      0                     0                 0   \n",
       "3                      0                     0                 0   \n",
       "4                      0                     0                 0   \n",
       "...                  ...                   ...               ...   \n",
       "8364                   0                     0                 0   \n",
       "8365                   0                     0                 0   \n",
       "8366                   0                     0                 0   \n",
       "8367                   0                     0                 0   \n",
       "8368                   0                     0                 0   \n",
       "\n",
       "      tyre_type_radial_runflat  tyre_type_runflat  tyre_type_runflat_tubeless  \\\n",
       "0                            0                  0                           0   \n",
       "1                            0                  0                           0   \n",
       "2                            0                  0                           0   \n",
       "3                            0                  0                           0   \n",
       "4                            0                  0                           0   \n",
       "...                        ...                ...                         ...   \n",
       "8364                         0                  0                           0   \n",
       "8365                         0                  0                           0   \n",
       "8366                         0                  0                           0   \n",
       "8367                         0                  0                           0   \n",
       "8368                         0                  0                           0   \n",
       "\n",
       "      tyre_type_tubeless  tyre_type_tubeless_radial  \n",
       "0                      0                          1  \n",
       "1                      1                          0  \n",
       "2                      0                          1  \n",
       "3                      0                          1  \n",
       "4                      1                          0  \n",
       "...                  ...                        ...  \n",
       "8364                   0                          1  \n",
       "8365                   0                          1  \n",
       "8366                   0                          1  \n",
       "8367                   1                          0  \n",
       "8368                   1                          0  \n",
       "\n",
       "[8369 rows x 227 columns]"
      ]
     },
     "execution_count": 3,
     "metadata": {},
     "output_type": "execute_result"
    }
   ],
   "source": [
    "df"
   ]
  },
  {
   "cell_type": "code",
   "execution_count": 4,
   "metadata": {},
   "outputs": [
    {
     "name": "stdout",
     "output_type": "stream",
     "text": [
      "X_train :  (7532, 226)\n",
      "y_train :  (7532,)\n",
      "X_test :  (837, 226)\n",
      "y_test :  (837,)\n"
     ]
    }
   ],
   "source": [
    "\n",
    "SEED = 42\n",
    "\n",
    "y = df['price']\n",
    "X = df.drop('price',axis=1)\n",
    "\n",
    "\n",
    "x_train, x_test, y_train, y_test = train_test_split( X, y, test_size=0.10, random_state=SEED,shuffle= True)\n",
    "\n",
    "\n",
    "print(\"X_train : \",x_train.shape)\n",
    "print(\"y_train : \",y_train.shape)\n",
    "\n",
    "print(\"X_test : \",x_test.shape)\n",
    "print(\"y_test : \",y_test.shape)\n",
    "\n",
    "#deleting unused variables\n",
    "del X,y"
   ]
  },
  {
   "cell_type": "markdown",
   "metadata": {},
   "source": [
    "### Model - 1"
   ]
  },
  {
   "cell_type": "code",
   "execution_count": 5,
   "metadata": {},
   "outputs": [],
   "source": [
    "svm = SVR()\n",
    "\n",
    "\n",
    "#fitting whole x_train\n",
    "svm.fit(x_train,y_train)\n",
    "\n",
    "train_prediction = svm.predict(x_train)\n",
    "test_prediction = svm.predict(x_test)\n",
    "\n",
    "#calculating RMSE score\n",
    "train_rmse = np.sqrt(mean_squared_error(y_train,train_prediction))\n",
    "test_rmse = np.sqrt(mean_squared_error(y_test,test_prediction))"
   ]
  },
  {
   "cell_type": "code",
   "execution_count": 6,
   "metadata": {},
   "outputs": [
    {
     "name": "stdout",
     "output_type": "stream",
     "text": [
      "1.0556980933332067\n",
      "0.09672037757487204\n"
     ]
    }
   ],
   "source": [
    "print(train_rmse)\n",
    "print(test_rmse)"
   ]
  },
  {
   "cell_type": "code",
   "execution_count": 12,
   "metadata": {},
   "outputs": [
    {
     "data": {
      "text/plain": [
       "<Axes: >"
      ]
     },
     "execution_count": 12,
     "metadata": {},
     "output_type": "execute_result"
    },
    {
     "data": {
      "image/png": "[encoded data removed]",
      "text/plain": [
       "<Figure size 640x480 with 1 Axes>"
      ]
     },
     "metadata": {},
     "output_type": "display_data"
    }
   ],
   "source": [
    "#plotting graph predicted vs actual target\n",
    "svm_test_results = pd.DataFrame()\n",
    "svm_test_results['label'] = y_test\n",
    "svm_test_results['prediction'] = test_prediction\n",
    "\n",
    "svm_test_results.plot()"
   ]
  },
  {
   "cell_type": "markdown",
   "metadata": {},
   "source": [
    "### Model 2 - Random forest"
   ]
  },
  {
   "cell_type": "code",
   "execution_count": 15,
   "metadata": {},
   "outputs": [
    {
     "name": "stdout",
     "output_type": "stream",
     "text": [
      "----- BEST PARAMETER ----- {'n_estimators': 166, 'min_samples_split': 2, 'min_samples_leaf': 1, 'max_depth': 41, 'bootstrap': True}\n",
      "------ BEST ESTIMATOR ----- RandomForestRegressor(max_depth=41, n_estimators=166)\n"
     ]
    }
   ],
   "source": [
    "# ML Model - 1 Implementation with hyperparameter optimization techniques (i.e., GridSearch CV, RandomSearch CV, Bayesian Optimization etc.)\n",
    "forest_grid = RandomForestRegressor()\n",
    "\n",
    "forest_hyper_param = {\n",
    "    'n_estimators': [int(x) for x in np.linspace(start = 100, stop = 300, num = 10)],\n",
    "    'max_depth' : [int(x) for x in np.linspace(3, 80, num = 11)],\n",
    "    'min_samples_split' : [2, 3, 5],\n",
    "    'min_samples_leaf' : [1, 2, 4],\n",
    "    'bootstrap': [True,False]\n",
    "}\n",
    "\n",
    "forest_random_search = RandomizedSearchCV(estimator = forest_grid , param_distributions = forest_hyper_param, n_iter = 100, cv = 5, verbose=1, random_state=SEED , n_jobs = -1)\n",
    "\n",
    "# Fit the Algorithm \n",
    "forest_random_search.fit(x_train, y_train)\n",
    "print(\"------ BEST PARAMETER -----\", forest_random_search.best_params_)\n",
    "print(\"------ BEST ESTIMATOR -----\" , forest_random_search.best_estimator_)"
   ]
  },
  {
   "cell_type": "code",
   "execution_count": 16,
   "metadata": {},
   "outputs": [],
   "source": [
    "random_forst = forest_random_search.best_estimator_\n",
    "\n",
    "random_forst.fit(x_train,y_train)\n",
    "\n",
    "# Predict on the model\n",
    "for_train_prediction = random_forst.predict(x_train)\n",
    "for_test_prediction = random_forst.predict(x_test)\n",
    "\n",
    "#calculating RMSE score\n",
    "train_rmse = np.sqrt(mean_squared_error(y_train,for_train_prediction))\n",
    "test_rmse = np.sqrt(mean_squared_error(y_test,for_test_prediction))"
   ]
  },
  {
   "cell_type": "code",
   "execution_count": 17,
   "metadata": {},
   "outputs": [
    {
     "name": "stdout",
     "output_type": "stream",
     "text": [
      "Train RMSE:  0.3793027365505076\n",
      "Test RMSE:  0.2773567761544332\n"
     ]
    }
   ],
   "source": [
    "#printing RMSE score\n",
    "print(\"Train RMSE: \",train_rmse)\n",
    "print(\"Test RMSE: \",test_rmse)"
   ]
  },
  {
   "cell_type": "code",
   "execution_count": 18,
   "metadata": {},
   "outputs": [
    {
     "data": {
      "text/plain": [
       "<Axes: >"
      ]
     },
     "execution_count": 18,
     "metadata": {},
     "output_type": "execute_result"
    },
    {
     "data": {
      "image/png": "[encoded data removed]",
      "text/plain": [
       "<Figure size 640x480 with 1 Axes>"
      ]
     },
     "metadata": {},
     "output_type": "display_data"
    }
   ],
   "source": [
    "#plotting graph predicted vs actual target\n",
    "random_for_results = pd.DataFrame()\n",
    "random_for_results['label'] = y_test\n",
    "random_for_results['prediction'] = for_test_prediction\n",
    "\n",
    "random_for_results.plot()"
   ]
  },
  {
   "cell_type": "markdown",
   "metadata": {},
   "source": [
    "### Model 3 - XG Boost"
   ]
  },
  {
   "cell_type": "code",
   "execution_count": 19,
   "metadata": {},
   "outputs": [
    {
     "name": "stdout",
     "output_type": "stream",
     "text": [
      "------ BEST PARAMETER ----- {'learning_rate': 0.01, 'max_depth': 5, 'min_child_weight': 3, 'n_estimators': 60}\n",
      "------ BEST ESTIMATOR ----- XGBRegressor(base_score=None, booster=None, callbacks=None,\n",
      "             colsample_bylevel=None, colsample_bynode=None,\n",
      "             colsample_bytree=None, device=None, early_stopping_rounds=None,\n",
      "             enable_categorical=False, eval_metric='rmse', feature_types=None,\n",
      "             gamma=None, grow_policy=None, importance_type=None,\n",
      "             interaction_constraints=None, learning_rate=0.01, max_bin=None,\n",
      "             max_cat_threshold=None, max_cat_to_onehot=None,\n",
      "             max_delta_step=None, max_depth=5, max_leaves=None,\n",
      "             min_child_weight=3, missing=nan, monotone_constraints=None,\n",
      "             multi_strategy=None, n_estimators=60, n_jobs=None,\n",
      "             num_parallel_tree=None, random_state=None, ...)\n"
     ]
    }
   ],
   "source": [
    "# ML Model - 3 Implementation with hyperparameter optimization techniques (i.e., GridSearch CV, RandomSearch CV, Bayesian Optimization etc.)\n",
    "xgb_grid = XGBRegressor(eval_metric = 'rmse')\n",
    "\n",
    "xgb_params = {\n",
    " 'max_depth': [5,8,9,12],\n",
    " 'min_child_weight': [1,2,3],\n",
    " 'learning_rate': [0.1,0.01,0.15],\n",
    "  'n_estimators': [60,80,100,140,160]\n",
    "}\n",
    "\n",
    "xgb_grid_search = GridSearchCV(xgb_grid, xgb_params, cv=5,\n",
    "                               scoring='neg_root_mean_squared_error',\n",
    "                         )\n",
    "\n",
    "xgb_grid_search.fit(x_train, y_train)\n",
    "print(\"------ BEST PARAMETER -----\", xgb_grid_search.best_params_)\n",
    "print(\"------ BEST ESTIMATOR -----\" , xgb_grid_search.best_estimator_)\n"
   ]
  },
  {
   "cell_type": "code",
   "execution_count": 20,
   "metadata": {},
   "outputs": [],
   "source": [
    "# Fit the Algorithm\n",
    "xgb_grid = xgb_grid_search.best_estimator_\n",
    "\n",
    "xgb_grid.fit(x_train,y_train)\n",
    "\n",
    "# Predict on the model\n",
    "xgb_train_prediction = xgb_grid.predict(x_train)\n",
    "xgb_test_prediction = xgb_grid.predict(x_test)\n",
    "\n",
    "#calculating RMSE score\n",
    "train_rmse = np.sqrt(mean_squared_error(y_train,xgb_train_prediction))\n",
    "test_rmse = np.sqrt(mean_squared_error(y_test,xgb_test_prediction))"
   ]
  },
  {
   "cell_type": "code",
   "execution_count": 21,
   "metadata": {},
   "outputs": [
    {
     "name": "stdout",
     "output_type": "stream",
     "text": [
      "0.8163526558312764\n",
      "0.1682288222176095\n"
     ]
    }
   ],
   "source": [
    "print(train_rmse)\n",
    "print(test_rmse)"
   ]
  },
  {
   "cell_type": "code",
   "execution_count": 22,
   "metadata": {},
   "outputs": [
    {
     "data": {
      "text/plain": [
       "<Axes: >"
      ]
     },
     "execution_count": 22,
     "metadata": {},
     "output_type": "execute_result"
    },
    {
     "data": {
      "image/png": "[encoded data removed]",
      "text/plain": [
       "<Figure size 640x480 with 1 Axes>"
      ]
     },
     "metadata": {},
     "output_type": "display_data"
    }
   ],
   "source": [
    "#plotting graph predicted vs actual target\n",
    "xgb_test_results = pd.DataFrame()\n",
    "xgb_test_results['label'] = y_test\n",
    "xgb_test_results['prediction'] = xgb_test_prediction\n",
    "xgb_test_results.plot()"
   ]
  },
  {
   "cell_type": "code",
   "execution_count": null,
   "metadata": {},
   "outputs": [],
   "source": []
  }
 ],
 "metadata": {
  "kernelspec": {
   "display_name": "base",
   "language": "python",
   "name": "python3"
  },
  "language_info": {
   "codemirror_mode": {
    "name": "ipython",
    "version": 3
   },
   "file_extension": ".py",
   "mimetype": "text/x-python",
   "name": "python",
   "nbconvert_exporter": "python",
   "pygments_lexer": "ipython3",
   "version": "3.12.4"
  }
 },
 "nbformat": 4,
 "nbformat_minor": 2
}
